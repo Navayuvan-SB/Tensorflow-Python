{
 "cells": [
  {
   "cell_type": "markdown",
   "metadata": {},
   "source": [
    "# Importing Libraries "
   ]
  },
  {
   "cell_type": "code",
   "execution_count": 32,
   "metadata": {},
   "outputs": [],
   "source": [
    "import pandas as pd\n",
    "import numpy as np"
   ]
  },
  {
   "cell_type": "code",
   "execution_count": 6,
   "metadata": {},
   "outputs": [],
   "source": [
    "diabetes = pd.read_csv('diabetes.csv')"
   ]
  },
  {
   "cell_type": "code",
   "execution_count": 8,
   "metadata": {},
   "outputs": [
    {
     "data": {
      "text/html": [
       "<div>\n",
       "<style scoped>\n",
       "    .dataframe tbody tr th:only-of-type {\n",
       "        vertical-align: middle;\n",
       "    }\n",
       "\n",
       "    .dataframe tbody tr th {\n",
       "        vertical-align: top;\n",
       "    }\n",
       "\n",
       "    .dataframe thead th {\n",
       "        text-align: right;\n",
       "    }\n",
       "</style>\n",
       "<table border=\"1\" class=\"dataframe\">\n",
       "  <thead>\n",
       "    <tr style=\"text-align: right;\">\n",
       "      <th></th>\n",
       "      <th>Pregnancies</th>\n",
       "      <th>Glucose</th>\n",
       "      <th>BloodPressure</th>\n",
       "      <th>SkinThickness</th>\n",
       "      <th>Insulin</th>\n",
       "      <th>BMI</th>\n",
       "      <th>DiabetesPedigreeFunction</th>\n",
       "      <th>Age</th>\n",
       "      <th>Outcome</th>\n",
       "    </tr>\n",
       "  </thead>\n",
       "  <tbody>\n",
       "    <tr>\n",
       "      <th>0</th>\n",
       "      <td>6</td>\n",
       "      <td>148</td>\n",
       "      <td>72</td>\n",
       "      <td>35</td>\n",
       "      <td>0</td>\n",
       "      <td>33.6</td>\n",
       "      <td>0.627</td>\n",
       "      <td>50</td>\n",
       "      <td>1</td>\n",
       "    </tr>\n",
       "    <tr>\n",
       "      <th>1</th>\n",
       "      <td>1</td>\n",
       "      <td>85</td>\n",
       "      <td>66</td>\n",
       "      <td>29</td>\n",
       "      <td>0</td>\n",
       "      <td>26.6</td>\n",
       "      <td>0.351</td>\n",
       "      <td>31</td>\n",
       "      <td>0</td>\n",
       "    </tr>\n",
       "    <tr>\n",
       "      <th>2</th>\n",
       "      <td>8</td>\n",
       "      <td>183</td>\n",
       "      <td>64</td>\n",
       "      <td>0</td>\n",
       "      <td>0</td>\n",
       "      <td>23.3</td>\n",
       "      <td>0.672</td>\n",
       "      <td>32</td>\n",
       "      <td>1</td>\n",
       "    </tr>\n",
       "    <tr>\n",
       "      <th>3</th>\n",
       "      <td>1</td>\n",
       "      <td>89</td>\n",
       "      <td>66</td>\n",
       "      <td>23</td>\n",
       "      <td>94</td>\n",
       "      <td>28.1</td>\n",
       "      <td>0.167</td>\n",
       "      <td>21</td>\n",
       "      <td>0</td>\n",
       "    </tr>\n",
       "    <tr>\n",
       "      <th>4</th>\n",
       "      <td>0</td>\n",
       "      <td>137</td>\n",
       "      <td>40</td>\n",
       "      <td>35</td>\n",
       "      <td>168</td>\n",
       "      <td>43.1</td>\n",
       "      <td>2.288</td>\n",
       "      <td>33</td>\n",
       "      <td>1</td>\n",
       "    </tr>\n",
       "  </tbody>\n",
       "</table>\n",
       "</div>"
      ],
      "text/plain": [
       "   Pregnancies  Glucose  BloodPressure  SkinThickness  Insulin   BMI  \\\n",
       "0            6      148             72             35        0  33.6   \n",
       "1            1       85             66             29        0  26.6   \n",
       "2            8      183             64              0        0  23.3   \n",
       "3            1       89             66             23       94  28.1   \n",
       "4            0      137             40             35      168  43.1   \n",
       "\n",
       "   DiabetesPedigreeFunction  Age  Outcome  \n",
       "0                     0.627   50        1  \n",
       "1                     0.351   31        0  \n",
       "2                     0.672   32        1  \n",
       "3                     0.167   21        0  \n",
       "4                     2.288   33        1  "
      ]
     },
     "execution_count": 8,
     "metadata": {},
     "output_type": "execute_result"
    }
   ],
   "source": [
    "diabetes.head()"
   ]
  },
  {
   "cell_type": "markdown",
   "metadata": {},
   "source": [
    "## Normalizing the columns "
   ]
  },
  {
   "cell_type": "code",
   "execution_count": 10,
   "metadata": {},
   "outputs": [
    {
     "data": {
      "text/plain": [
       "Index(['Pregnancies', 'Glucose', 'BloodPressure', 'SkinThickness', 'Insulin',\n",
       "       'BMI', 'DiabetesPedigreeFunction', 'Age', 'Outcome'],\n",
       "      dtype='object')"
      ]
     },
     "execution_count": 10,
     "metadata": {},
     "output_type": "execute_result"
    }
   ],
   "source": [
    "diabetes.columns"
   ]
  },
  {
   "cell_type": "code",
   "execution_count": 11,
   "metadata": {},
   "outputs": [],
   "source": [
    "norm_cols = ['Pregnancies', 'Glucose', 'BloodPressure', 'SkinThickness', 'Insulin',\n",
    "       'BMI', 'DiabetesPedigreeFunction']"
   ]
  },
  {
   "cell_type": "code",
   "execution_count": 13,
   "metadata": {},
   "outputs": [],
   "source": [
    "diabetes[norm_cols] = diabetes[norm_cols].apply(lambda x: (x - x.min() / (x.max() - x.min())))"
   ]
  },
  {
   "cell_type": "code",
   "execution_count": 15,
   "metadata": {},
   "outputs": [
    {
     "data": {
      "text/html": [
       "<div>\n",
       "<style scoped>\n",
       "    .dataframe tbody tr th:only-of-type {\n",
       "        vertical-align: middle;\n",
       "    }\n",
       "\n",
       "    .dataframe tbody tr th {\n",
       "        vertical-align: top;\n",
       "    }\n",
       "\n",
       "    .dataframe thead th {\n",
       "        text-align: right;\n",
       "    }\n",
       "</style>\n",
       "<table border=\"1\" class=\"dataframe\">\n",
       "  <thead>\n",
       "    <tr style=\"text-align: right;\">\n",
       "      <th></th>\n",
       "      <th>Pregnancies</th>\n",
       "      <th>Glucose</th>\n",
       "      <th>BloodPressure</th>\n",
       "      <th>SkinThickness</th>\n",
       "      <th>Insulin</th>\n",
       "      <th>BMI</th>\n",
       "      <th>DiabetesPedigreeFunction</th>\n",
       "      <th>Age</th>\n",
       "      <th>Outcome</th>\n",
       "    </tr>\n",
       "  </thead>\n",
       "  <tbody>\n",
       "    <tr>\n",
       "      <th>0</th>\n",
       "      <td>6.0</td>\n",
       "      <td>148.0</td>\n",
       "      <td>72.0</td>\n",
       "      <td>35.0</td>\n",
       "      <td>0.0</td>\n",
       "      <td>33.6</td>\n",
       "      <td>0.574611</td>\n",
       "      <td>50</td>\n",
       "      <td>1</td>\n",
       "    </tr>\n",
       "    <tr>\n",
       "      <th>1</th>\n",
       "      <td>1.0</td>\n",
       "      <td>85.0</td>\n",
       "      <td>66.0</td>\n",
       "      <td>29.0</td>\n",
       "      <td>0.0</td>\n",
       "      <td>26.6</td>\n",
       "      <td>0.298611</td>\n",
       "      <td>31</td>\n",
       "      <td>0</td>\n",
       "    </tr>\n",
       "    <tr>\n",
       "      <th>2</th>\n",
       "      <td>8.0</td>\n",
       "      <td>183.0</td>\n",
       "      <td>64.0</td>\n",
       "      <td>0.0</td>\n",
       "      <td>0.0</td>\n",
       "      <td>23.3</td>\n",
       "      <td>0.619611</td>\n",
       "      <td>32</td>\n",
       "      <td>1</td>\n",
       "    </tr>\n",
       "    <tr>\n",
       "      <th>3</th>\n",
       "      <td>1.0</td>\n",
       "      <td>89.0</td>\n",
       "      <td>66.0</td>\n",
       "      <td>23.0</td>\n",
       "      <td>94.0</td>\n",
       "      <td>28.1</td>\n",
       "      <td>0.114611</td>\n",
       "      <td>21</td>\n",
       "      <td>0</td>\n",
       "    </tr>\n",
       "    <tr>\n",
       "      <th>4</th>\n",
       "      <td>0.0</td>\n",
       "      <td>137.0</td>\n",
       "      <td>40.0</td>\n",
       "      <td>35.0</td>\n",
       "      <td>168.0</td>\n",
       "      <td>43.1</td>\n",
       "      <td>2.235611</td>\n",
       "      <td>33</td>\n",
       "      <td>1</td>\n",
       "    </tr>\n",
       "  </tbody>\n",
       "</table>\n",
       "</div>"
      ],
      "text/plain": [
       "   Pregnancies  Glucose  BloodPressure  SkinThickness  Insulin   BMI  \\\n",
       "0          6.0    148.0           72.0           35.0      0.0  33.6   \n",
       "1          1.0     85.0           66.0           29.0      0.0  26.6   \n",
       "2          8.0    183.0           64.0            0.0      0.0  23.3   \n",
       "3          1.0     89.0           66.0           23.0     94.0  28.1   \n",
       "4          0.0    137.0           40.0           35.0    168.0  43.1   \n",
       "\n",
       "   DiabetesPedigreeFunction  Age  Outcome  \n",
       "0                  0.574611   50        1  \n",
       "1                  0.298611   31        0  \n",
       "2                  0.619611   32        1  \n",
       "3                  0.114611   21        0  \n",
       "4                  2.235611   33        1  "
      ]
     },
     "execution_count": 15,
     "metadata": {},
     "output_type": "execute_result"
    }
   ],
   "source": [
    "diabetes.head()"
   ]
  },
  {
   "cell_type": "markdown",
   "metadata": {},
   "source": [
    "# Importing Tensorflow "
   ]
  },
  {
   "cell_type": "code",
   "execution_count": 16,
   "metadata": {},
   "outputs": [],
   "source": [
    "import tensorflow as tf"
   ]
  },
  {
   "cell_type": "code",
   "execution_count": 17,
   "metadata": {},
   "outputs": [
    {
     "data": {
      "text/plain": [
       "Index(['Pregnancies', 'Glucose', 'BloodPressure', 'SkinThickness', 'Insulin',\n",
       "       'BMI', 'DiabetesPedigreeFunction', 'Age', 'Outcome'],\n",
       "      dtype='object')"
      ]
     },
     "execution_count": 17,
     "metadata": {},
     "output_type": "execute_result"
    }
   ],
   "source": [
    "diabetes.columns"
   ]
  },
  {
   "cell_type": "markdown",
   "metadata": {},
   "source": [
    "##  Creating feature columns (numeric columns) for each columns"
   ]
  },
  {
   "cell_type": "code",
   "execution_count": 18,
   "metadata": {},
   "outputs": [],
   "source": [
    "preg = tf.feature_column.numeric_column('Pregnancies')\n",
    "\n",
    "gluc = tf.feature_column.numeric_column('Glucose')\n",
    "\n",
    "blood_pres = tf.feature_column.numeric_column('BloodPressure')\n",
    "\n",
    "skin_thick = tf.feature_column.numeric_column('SkinThickness')\n",
    "\n",
    "insulin = tf.feature_column.numeric_column('Insulin')\n",
    "\n",
    "bmi = tf.feature_column.numeric_column('BMI')\n",
    "\n",
    "dias_pred = tf.feature_column.numeric_column('DiabetesPedigreeFunction')\n",
    "\n",
    "age = tf.feature_column.numeric_column('Age')"
   ]
  },
  {
   "cell_type": "markdown",
   "metadata": {},
   "source": [
    "## Adding a text column in dataframe "
   ]
  },
  {
   "cell_type": "markdown",
   "metadata": {},
   "source": [
    "### Generating a random alphabet for groups among A, B, C, D "
   ]
  },
  {
   "cell_type": "code",
   "execution_count": 41,
   "metadata": {},
   "outputs": [
    {
     "name": "stdout",
     "output_type": "stream",
     "text": [
      "768\n"
     ]
    }
   ],
   "source": [
    "actual_values = []\n",
    "new_values = ['A', 'B', 'C', 'D']\n",
    "for x in range(0, 768):\n",
    "    \n",
    "    actual_values.append(new_values[np.random.randint(0, 4)])\n",
    "    \n",
    "print(len(actual_values))"
   ]
  },
  {
   "cell_type": "markdown",
   "metadata": {},
   "source": [
    "### Inserting new column with created values "
   ]
  },
  {
   "cell_type": "code",
   "execution_count": 44,
   "metadata": {},
   "outputs": [],
   "source": [
    "diabetes['Group'] = actual_values"
   ]
  },
  {
   "cell_type": "code",
   "execution_count": 46,
   "metadata": {
    "scrolled": false
   },
   "outputs": [
    {
     "data": {
      "text/html": [
       "<div>\n",
       "<style scoped>\n",
       "    .dataframe tbody tr th:only-of-type {\n",
       "        vertical-align: middle;\n",
       "    }\n",
       "\n",
       "    .dataframe tbody tr th {\n",
       "        vertical-align: top;\n",
       "    }\n",
       "\n",
       "    .dataframe thead th {\n",
       "        text-align: right;\n",
       "    }\n",
       "</style>\n",
       "<table border=\"1\" class=\"dataframe\">\n",
       "  <thead>\n",
       "    <tr style=\"text-align: right;\">\n",
       "      <th></th>\n",
       "      <th>Pregnancies</th>\n",
       "      <th>Glucose</th>\n",
       "      <th>BloodPressure</th>\n",
       "      <th>SkinThickness</th>\n",
       "      <th>Insulin</th>\n",
       "      <th>BMI</th>\n",
       "      <th>DiabetesPedigreeFunction</th>\n",
       "      <th>Age</th>\n",
       "      <th>Outcome</th>\n",
       "      <th>Group</th>\n",
       "    </tr>\n",
       "  </thead>\n",
       "  <tbody>\n",
       "    <tr>\n",
       "      <th>0</th>\n",
       "      <td>6.0</td>\n",
       "      <td>148.0</td>\n",
       "      <td>72.0</td>\n",
       "      <td>35.0</td>\n",
       "      <td>0.0</td>\n",
       "      <td>33.6</td>\n",
       "      <td>0.574611</td>\n",
       "      <td>50</td>\n",
       "      <td>1</td>\n",
       "      <td>C</td>\n",
       "    </tr>\n",
       "    <tr>\n",
       "      <th>1</th>\n",
       "      <td>1.0</td>\n",
       "      <td>85.0</td>\n",
       "      <td>66.0</td>\n",
       "      <td>29.0</td>\n",
       "      <td>0.0</td>\n",
       "      <td>26.6</td>\n",
       "      <td>0.298611</td>\n",
       "      <td>31</td>\n",
       "      <td>0</td>\n",
       "      <td>D</td>\n",
       "    </tr>\n",
       "    <tr>\n",
       "      <th>2</th>\n",
       "      <td>8.0</td>\n",
       "      <td>183.0</td>\n",
       "      <td>64.0</td>\n",
       "      <td>0.0</td>\n",
       "      <td>0.0</td>\n",
       "      <td>23.3</td>\n",
       "      <td>0.619611</td>\n",
       "      <td>32</td>\n",
       "      <td>1</td>\n",
       "      <td>D</td>\n",
       "    </tr>\n",
       "    <tr>\n",
       "      <th>3</th>\n",
       "      <td>1.0</td>\n",
       "      <td>89.0</td>\n",
       "      <td>66.0</td>\n",
       "      <td>23.0</td>\n",
       "      <td>94.0</td>\n",
       "      <td>28.1</td>\n",
       "      <td>0.114611</td>\n",
       "      <td>21</td>\n",
       "      <td>0</td>\n",
       "      <td>A</td>\n",
       "    </tr>\n",
       "    <tr>\n",
       "      <th>4</th>\n",
       "      <td>0.0</td>\n",
       "      <td>137.0</td>\n",
       "      <td>40.0</td>\n",
       "      <td>35.0</td>\n",
       "      <td>168.0</td>\n",
       "      <td>43.1</td>\n",
       "      <td>2.235611</td>\n",
       "      <td>33</td>\n",
       "      <td>1</td>\n",
       "      <td>C</td>\n",
       "    </tr>\n",
       "  </tbody>\n",
       "</table>\n",
       "</div>"
      ],
      "text/plain": [
       "   Pregnancies  Glucose  BloodPressure  SkinThickness  Insulin   BMI  \\\n",
       "0          6.0    148.0           72.0           35.0      0.0  33.6   \n",
       "1          1.0     85.0           66.0           29.0      0.0  26.6   \n",
       "2          8.0    183.0           64.0            0.0      0.0  23.3   \n",
       "3          1.0     89.0           66.0           23.0     94.0  28.1   \n",
       "4          0.0    137.0           40.0           35.0    168.0  43.1   \n",
       "\n",
       "   DiabetesPedigreeFunction  Age  Outcome Group  \n",
       "0                  0.574611   50        1     C  \n",
       "1                  0.298611   31        0     D  \n",
       "2                  0.619611   32        1     D  \n",
       "3                  0.114611   21        0     A  \n",
       "4                  2.235611   33        1     C  "
      ]
     },
     "execution_count": 46,
     "metadata": {},
     "output_type": "execute_result"
    }
   ],
   "source": [
    "diabetes.head()"
   ]
  },
  {
   "cell_type": "markdown",
   "metadata": {},
   "source": [
    "## Creating feature columns (categorical column) for each columns\n",
    "\n",
    "    ~ categorical_column_with_vocabulary_list - When we know the values of the feature column\n",
    "    \n",
    "    ~ categorical_column_with_hash_bucket - When we know the number of values can be present in that column "
   ]
  },
  {
   "cell_type": "code",
   "execution_count": 48,
   "metadata": {},
   "outputs": [],
   "source": [
    "asssigned_group = tf.feature_column.categorical_column_with_vocabulary_list('Group', ['A', 'B', 'C', 'D'])"
   ]
  },
  {
   "cell_type": "code",
   "execution_count": 50,
   "metadata": {},
   "outputs": [],
   "source": [
    "# asssigned_group = tf.feature_column.categorical_column_with_hash_bucket('Group', hash_bucket_size = 10)"
   ]
  },
  {
   "cell_type": "markdown",
   "metadata": {},
   "source": [
    "## Importing Matplotlib "
   ]
  },
  {
   "cell_type": "code",
   "execution_count": 51,
   "metadata": {},
   "outputs": [],
   "source": [
    "import matplotlib.pyplot as plt\n",
    "%matplotlib inline"
   ]
  },
  {
   "cell_type": "code",
   "execution_count": 52,
   "metadata": {
    "scrolled": true
   },
   "outputs": [
    {
     "data": {
      "text/plain": [
       "<matplotlib.axes._subplots.AxesSubplot at 0x7f3b3ccdb8d0>"
      ]
     },
     "execution_count": 52,
     "metadata": {},
     "output_type": "execute_result"
    },
    {
     "data": {
      "image/png": "[encoded data removed]",
      "text/plain": [
       "<Figure size 432x288 with 1 Axes>"
      ]
     },
     "metadata": {
      "needs_background": "light"
     },
     "output_type": "display_data"
    }
   ],
   "source": [
    "diabetes['Age'].hist(bins = 20)"
   ]
  },
  {
   "cell_type": "markdown",
   "metadata": {},
   "source": [
    "### Convert age (numeric column)  into categorical column using bucketized_column method\n",
    "\n",
    "    ~ buketized_column changes the values of the numeric column into a bucket value.\n",
    "    ~ For Eg:\n",
    "    \n",
    "        boundaries = [0, 10, 100]\n",
    "        input tensor = [[-5, 10000]\n",
    "                        [150,   10]\n",
    "                        [5,    100]]\n",
    "                        \n",
    "        The output will be\n",
    "        \n",
    "        output = [[0, 3]\n",
    "                  [3, 2]\n",
    "                  [1, 3]]\n",
    "                  \n",
    "        i.e., the values are replaced with the index of the boundaries which we have provided."
   ]
  },
  {
   "cell_type": "code",
   "execution_count": 55,
   "metadata": {},
   "outputs": [],
   "source": [
    "age_bucket = tf.feature_column.bucketized_column(age, boundaries = [20, 30, 40, 50, 60, 70, 80])"
   ]
  },
  {
   "cell_type": "code",
   "execution_count": 56,
   "metadata": {},
   "outputs": [],
   "source": [
    "feat_cols = [preg, gluc, dias_pred, insulin, bmi, blood_pres, skin_thick, asssigned_group, age_bucket]"
   ]
  },
  {
   "cell_type": "markdown",
   "metadata": {},
   "source": [
    "### Train Test Split "
   ]
  },
  {
   "cell_type": "code",
   "execution_count": 62,
   "metadata": {},
   "outputs": [
    {
     "data": {
      "text/html": [
       "<div>\n",
       "<style scoped>\n",
       "    .dataframe tbody tr th:only-of-type {\n",
       "        vertical-align: middle;\n",
       "    }\n",
       "\n",
       "    .dataframe tbody tr th {\n",
       "        vertical-align: top;\n",
       "    }\n",
       "\n",
       "    .dataframe thead th {\n",
       "        text-align: right;\n",
       "    }\n",
       "</style>\n",
       "<table border=\"1\" class=\"dataframe\">\n",
       "  <thead>\n",
       "    <tr style=\"text-align: right;\">\n",
       "      <th></th>\n",
       "      <th>Pregnancies</th>\n",
       "      <th>Glucose</th>\n",
       "      <th>BloodPressure</th>\n",
       "      <th>SkinThickness</th>\n",
       "      <th>Insulin</th>\n",
       "      <th>BMI</th>\n",
       "      <th>DiabetesPedigreeFunction</th>\n",
       "      <th>Age</th>\n",
       "      <th>Group</th>\n",
       "    </tr>\n",
       "  </thead>\n",
       "  <tbody>\n",
       "    <tr>\n",
       "      <th>0</th>\n",
       "      <td>6.0</td>\n",
       "      <td>148.0</td>\n",
       "      <td>72.0</td>\n",
       "      <td>35.0</td>\n",
       "      <td>0.0</td>\n",
       "      <td>33.6</td>\n",
       "      <td>0.574611</td>\n",
       "      <td>50</td>\n",
       "      <td>C</td>\n",
       "    </tr>\n",
       "    <tr>\n",
       "      <th>1</th>\n",
       "      <td>1.0</td>\n",
       "      <td>85.0</td>\n",
       "      <td>66.0</td>\n",
       "      <td>29.0</td>\n",
       "      <td>0.0</td>\n",
       "      <td>26.6</td>\n",
       "      <td>0.298611</td>\n",
       "      <td>31</td>\n",
       "      <td>D</td>\n",
       "    </tr>\n",
       "    <tr>\n",
       "      <th>2</th>\n",
       "      <td>8.0</td>\n",
       "      <td>183.0</td>\n",
       "      <td>64.0</td>\n",
       "      <td>0.0</td>\n",
       "      <td>0.0</td>\n",
       "      <td>23.3</td>\n",
       "      <td>0.619611</td>\n",
       "      <td>32</td>\n",
       "      <td>D</td>\n",
       "    </tr>\n",
       "    <tr>\n",
       "      <th>3</th>\n",
       "      <td>1.0</td>\n",
       "      <td>89.0</td>\n",
       "      <td>66.0</td>\n",
       "      <td>23.0</td>\n",
       "      <td>94.0</td>\n",
       "      <td>28.1</td>\n",
       "      <td>0.114611</td>\n",
       "      <td>21</td>\n",
       "      <td>A</td>\n",
       "    </tr>\n",
       "    <tr>\n",
       "      <th>4</th>\n",
       "      <td>0.0</td>\n",
       "      <td>137.0</td>\n",
       "      <td>40.0</td>\n",
       "      <td>35.0</td>\n",
       "      <td>168.0</td>\n",
       "      <td>43.1</td>\n",
       "      <td>2.235611</td>\n",
       "      <td>33</td>\n",
       "      <td>C</td>\n",
       "    </tr>\n",
       "  </tbody>\n",
       "</table>\n",
       "</div>"
      ],
      "text/plain": [
       "   Pregnancies  Glucose  BloodPressure  SkinThickness  Insulin   BMI  \\\n",
       "0          6.0    148.0           72.0           35.0      0.0  33.6   \n",
       "1          1.0     85.0           66.0           29.0      0.0  26.6   \n",
       "2          8.0    183.0           64.0            0.0      0.0  23.3   \n",
       "3          1.0     89.0           66.0           23.0     94.0  28.1   \n",
       "4          0.0    137.0           40.0           35.0    168.0  43.1   \n",
       "\n",
       "   DiabetesPedigreeFunction  Age Group  \n",
       "0                  0.574611   50     C  \n",
       "1                  0.298611   31     D  \n",
       "2                  0.619611   32     D  \n",
       "3                  0.114611   21     A  \n",
       "4                  2.235611   33     C  "
      ]
     },
     "execution_count": 62,
     "metadata": {},
     "output_type": "execute_result"
    }
   ],
   "source": [
    "x_data = diabetes.drop('Outcome', axis = 1)\n",
    "x_data.head()"
   ]
  },
  {
   "cell_type": "code",
   "execution_count": 65,
   "metadata": {
    "scrolled": true
   },
   "outputs": [
    {
     "data": {
      "text/plain": [
       "0    1\n",
       "1    0\n",
       "2    1\n",
       "3    0\n",
       "4    1\n",
       "Name: Outcome, dtype: int64"
      ]
     },
     "execution_count": 65,
     "metadata": {},
     "output_type": "execute_result"
    }
   ],
   "source": [
    "labels = diabetes['Outcome']\n",
    "labels.head()"
   ]
  },
  {
   "cell_type": "markdown",
   "metadata": {},
   "source": [
    "### Importing train test split from sklearn "
   ]
  },
  {
   "cell_type": "code",
   "execution_count": 66,
   "metadata": {},
   "outputs": [],
   "source": [
    "from sklearn.model_selection import train_test_split"
   ]
  },
  {
   "cell_type": "code",
   "execution_count": 71,
   "metadata": {},
   "outputs": [],
   "source": [
    "x_train, x_test, y_train, y_test = train_test_split(x_data, labels, test_size = 0.3, random_state = 101)"
   ]
  },
  {
   "cell_type": "markdown",
   "metadata": {},
   "source": [
    "### Creating input functions "
   ]
  },
  {
   "cell_type": "code",
   "execution_count": 98,
   "metadata": {},
   "outputs": [],
   "source": [
    "input_func = tf.estimator.inputs.pandas_input_fn (x = x_train, y = y_train, \n",
    "                                                 batch_size = 100, num_epochs = 1000,\n",
    "                                                 shuffle = True)"
   ]
  },
  {
   "cell_type": "markdown",
   "metadata": {},
   "source": [
    "### Instance of Estimator "
   ]
  },
  {
   "cell_type": "code",
   "execution_count": 99,
   "metadata": {},
   "outputs": [
    {
     "name": "stdout",
     "output_type": "stream",
     "text": [
      "INFO:tensorflow:Using default config.\n",
      "WARNING:tensorflow:Using temporary folder as model directory: /tmp/tmp1l7lw0_n\n",
      "INFO:tensorflow:Using config: {'_model_dir': '/tmp/tmp1l7lw0_n', '_tf_random_seed': None, '_save_summary_steps': 100, '_save_checkpoints_steps': None, '_save_checkpoints_secs': 600, '_session_config': allow_soft_placement: true\n",
      "graph_options {\n",
      "  rewrite_options {\n",
      "    meta_optimizer_iterations: ONE\n",
      "  }\n",
      "}\n",
      ", '_keep_checkpoint_max': 5, '_keep_checkpoint_every_n_hours': 10000, '_log_step_count_steps': 100, '_train_distribute': None, '_device_fn': None, '_protocol': None, '_eval_distribute': None, '_experimental_distribute': None, '_service': None, '_cluster_spec': <tensorflow.python.training.server_lib.ClusterSpec object at 0x7f3b38c01b00>, '_task_type': 'worker', '_task_id': 0, '_global_id_in_cluster': 0, '_master': '', '_evaluation_master': '', '_is_chief': True, '_num_ps_replicas': 0, '_num_worker_replicas': 1}\n"
     ]
    }
   ],
   "source": [
    "model = tf.estimator.LinearClassifier(feature_columns=feat_cols, n_classes = 2)"
   ]
  },
  {
   "cell_type": "markdown",
   "metadata": {},
   "source": [
    "### Train our model "
   ]
  },
  {
   "cell_type": "code",
   "execution_count": 100,
   "metadata": {},
   "outputs": [
    {
     "name": "stdout",
     "output_type": "stream",
     "text": [
      "INFO:tensorflow:Calling model_fn.\n",
      "INFO:tensorflow:Done calling model_fn.\n",
      "INFO:tensorflow:Create CheckpointSaverHook.\n",
      "INFO:tensorflow:Graph was finalized.\n",
      "INFO:tensorflow:Running local_init_op.\n",
      "INFO:tensorflow:Done running local_init_op.\n",
      "INFO:tensorflow:Saving checkpoints for 0 into /tmp/tmp1l7lw0_n/model.ckpt.\n",
      "INFO:tensorflow:loss = 69.31472, step = 1\n",
      "INFO:tensorflow:global_step/sec: 281.361\n",
      "INFO:tensorflow:loss = 119.25514, step = 101 (0.356 sec)\n",
      "INFO:tensorflow:global_step/sec: 440.012\n",
      "INFO:tensorflow:loss = 101.813065, step = 201 (0.228 sec)\n",
      "INFO:tensorflow:global_step/sec: 436.159\n",
      "INFO:tensorflow:loss = 74.02742, step = 301 (0.229 sec)\n",
      "INFO:tensorflow:global_step/sec: 409.962\n",
      "INFO:tensorflow:loss = 47.398827, step = 401 (0.243 sec)\n",
      "INFO:tensorflow:global_step/sec: 389.193\n",
      "INFO:tensorflow:loss = 39.185863, step = 501 (0.257 sec)\n",
      "INFO:tensorflow:global_step/sec: 434.118\n",
      "INFO:tensorflow:loss = 53.469772, step = 601 (0.231 sec)\n",
      "INFO:tensorflow:global_step/sec: 457.884\n",
      "INFO:tensorflow:loss = 47.63828, step = 701 (0.218 sec)\n",
      "INFO:tensorflow:global_step/sec: 423.81\n",
      "INFO:tensorflow:loss = 49.24553, step = 801 (0.235 sec)\n",
      "INFO:tensorflow:global_step/sec: 396.98\n",
      "INFO:tensorflow:loss = 51.432564, step = 901 (0.253 sec)\n",
      "INFO:tensorflow:global_step/sec: 459.017\n",
      "INFO:tensorflow:loss = 46.249695, step = 1001 (0.218 sec)\n",
      "INFO:tensorflow:global_step/sec: 442.415\n",
      "INFO:tensorflow:loss = 50.493057, step = 1101 (0.226 sec)\n",
      "INFO:tensorflow:global_step/sec: 450.689\n",
      "INFO:tensorflow:loss = 58.794067, step = 1201 (0.220 sec)\n",
      "INFO:tensorflow:global_step/sec: 404.28\n",
      "INFO:tensorflow:loss = 48.076965, step = 1301 (0.248 sec)\n",
      "INFO:tensorflow:global_step/sec: 438.37\n",
      "INFO:tensorflow:loss = 47.715588, step = 1401 (0.228 sec)\n",
      "INFO:tensorflow:global_step/sec: 383.036\n",
      "INFO:tensorflow:loss = 46.555855, step = 1501 (0.261 sec)\n",
      "INFO:tensorflow:global_step/sec: 428.336\n",
      "INFO:tensorflow:loss = 56.291267, step = 1601 (0.235 sec)\n",
      "INFO:tensorflow:global_step/sec: 407.286\n",
      "INFO:tensorflow:loss = 46.064617, step = 1701 (0.245 sec)\n",
      "INFO:tensorflow:global_step/sec: 435.972\n",
      "INFO:tensorflow:loss = 64.46291, step = 1801 (0.228 sec)\n",
      "INFO:tensorflow:global_step/sec: 440.91\n",
      "INFO:tensorflow:loss = 51.283257, step = 1901 (0.228 sec)\n",
      "INFO:tensorflow:global_step/sec: 421.453\n",
      "INFO:tensorflow:loss = 43.691402, step = 2001 (0.237 sec)\n",
      "INFO:tensorflow:global_step/sec: 419.465\n",
      "INFO:tensorflow:loss = 54.791405, step = 2101 (0.240 sec)\n",
      "INFO:tensorflow:global_step/sec: 421.238\n",
      "INFO:tensorflow:loss = 46.410934, step = 2201 (0.237 sec)\n",
      "INFO:tensorflow:global_step/sec: 374.844\n",
      "INFO:tensorflow:loss = 41.14727, step = 2301 (0.267 sec)\n",
      "INFO:tensorflow:global_step/sec: 368.931\n",
      "INFO:tensorflow:loss = 54.6367, step = 2401 (0.270 sec)\n",
      "INFO:tensorflow:global_step/sec: 335.665\n",
      "INFO:tensorflow:loss = 49.79786, step = 2501 (0.299 sec)\n",
      "INFO:tensorflow:global_step/sec: 386.592\n",
      "INFO:tensorflow:loss = 48.233368, step = 2601 (0.258 sec)\n",
      "INFO:tensorflow:global_step/sec: 328.339\n",
      "INFO:tensorflow:loss = 49.71732, step = 2701 (0.303 sec)\n",
      "INFO:tensorflow:global_step/sec: 446.332\n",
      "INFO:tensorflow:loss = 49.422344, step = 2801 (0.224 sec)\n",
      "INFO:tensorflow:global_step/sec: 413.162\n",
      "INFO:tensorflow:loss = 53.64009, step = 2901 (0.244 sec)\n",
      "INFO:tensorflow:global_step/sec: 304.669\n",
      "INFO:tensorflow:loss = 54.255543, step = 3001 (0.329 sec)\n",
      "INFO:tensorflow:global_step/sec: 435.143\n",
      "INFO:tensorflow:loss = 48.697994, step = 3101 (0.227 sec)\n",
      "INFO:tensorflow:global_step/sec: 437.645\n",
      "INFO:tensorflow:loss = 45.288853, step = 3201 (0.228 sec)\n",
      "INFO:tensorflow:global_step/sec: 452.675\n",
      "INFO:tensorflow:loss = 50.875736, step = 3301 (0.222 sec)\n",
      "INFO:tensorflow:global_step/sec: 421.132\n",
      "INFO:tensorflow:loss = 48.73672, step = 3401 (0.238 sec)\n",
      "INFO:tensorflow:global_step/sec: 445.268\n",
      "INFO:tensorflow:loss = 38.698887, step = 3501 (0.224 sec)\n",
      "INFO:tensorflow:global_step/sec: 413.648\n",
      "INFO:tensorflow:loss = 46.38394, step = 3601 (0.241 sec)\n",
      "INFO:tensorflow:global_step/sec: 424.772\n",
      "INFO:tensorflow:loss = 50.006256, step = 3701 (0.236 sec)\n",
      "INFO:tensorflow:global_step/sec: 441.908\n",
      "INFO:tensorflow:loss = 47.690716, step = 3801 (0.225 sec)\n",
      "INFO:tensorflow:global_step/sec: 432.074\n",
      "INFO:tensorflow:loss = 53.381863, step = 3901 (0.232 sec)\n",
      "INFO:tensorflow:global_step/sec: 464.925\n",
      "INFO:tensorflow:loss = 49.02786, step = 4001 (0.215 sec)\n",
      "INFO:tensorflow:global_step/sec: 334.389\n",
      "INFO:tensorflow:loss = 45.75638, step = 4101 (0.300 sec)\n",
      "INFO:tensorflow:global_step/sec: 375.577\n",
      "INFO:tensorflow:loss = 48.48995, step = 4201 (0.264 sec)\n",
      "INFO:tensorflow:global_step/sec: 436.216\n",
      "INFO:tensorflow:loss = 45.122913, step = 4301 (0.230 sec)\n",
      "INFO:tensorflow:global_step/sec: 439.067\n",
      "INFO:tensorflow:loss = 50.005775, step = 4401 (0.228 sec)\n",
      "INFO:tensorflow:global_step/sec: 480.742\n",
      "INFO:tensorflow:loss = 47.785572, step = 4501 (0.208 sec)\n",
      "INFO:tensorflow:global_step/sec: 332.027\n",
      "INFO:tensorflow:loss = 60.989655, step = 4601 (0.302 sec)\n",
      "INFO:tensorflow:global_step/sec: 368.854\n",
      "INFO:tensorflow:loss = 50.397484, step = 4701 (0.270 sec)\n",
      "INFO:tensorflow:global_step/sec: 409.405\n",
      "INFO:tensorflow:loss = 61.64644, step = 4801 (0.245 sec)\n",
      "INFO:tensorflow:global_step/sec: 412.973\n",
      "INFO:tensorflow:loss = 47.44954, step = 4901 (0.242 sec)\n",
      "INFO:tensorflow:global_step/sec: 428.193\n",
      "INFO:tensorflow:loss = 42.497, step = 5001 (0.234 sec)\n",
      "INFO:tensorflow:global_step/sec: 425.546\n",
      "INFO:tensorflow:loss = 52.22058, step = 5101 (0.235 sec)\n",
      "INFO:tensorflow:global_step/sec: 436.213\n",
      "INFO:tensorflow:loss = 37.959534, step = 5201 (0.229 sec)\n",
      "INFO:tensorflow:global_step/sec: 465.857\n",
      "INFO:tensorflow:loss = 49.138504, step = 5301 (0.215 sec)\n",
      "INFO:tensorflow:Saving checkpoints for 5370 into /tmp/tmp1l7lw0_n/model.ckpt.\n",
      "INFO:tensorflow:Loss for final step: 45.177197.\n"
     ]
    },
    {
     "data": {
      "text/plain": [
       "<tensorflow.python.estimator.canned.linear.LinearClassifier at 0x7f3b389959b0>"
      ]
     },
     "execution_count": 100,
     "metadata": {},
     "output_type": "execute_result"
    }
   ],
   "source": [
    "model.train(input_fn= input_func, steps= 10000)"
   ]
  },
  {
   "cell_type": "markdown",
   "metadata": {},
   "source": [
    "### Creating input functions for Testing (eval) dataset "
   ]
  },
  {
   "cell_type": "code",
   "execution_count": 101,
   "metadata": {},
   "outputs": [],
   "source": [
    "eval_input_func = tf.estimator.inputs.pandas_input_fn(x = x_test, y = y_test,\n",
    "                                                     batch_size = 10, num_epochs= 1,\n",
    "                                                     shuffle = False)"
   ]
  },
  {
   "cell_type": "markdown",
   "metadata": {},
   "source": [
    "### Evaluating our model "
   ]
  },
  {
   "cell_type": "code",
   "execution_count": 102,
   "metadata": {},
   "outputs": [
    {
     "name": "stdout",
     "output_type": "stream",
     "text": [
      "INFO:tensorflow:Calling model_fn.\n",
      "WARNING:tensorflow:Trapezoidal rule is known to produce incorrect PR-AUCs; please switch to \"careful_interpolation\" instead.\n",
      "WARNING:tensorflow:Trapezoidal rule is known to produce incorrect PR-AUCs; please switch to \"careful_interpolation\" instead.\n",
      "INFO:tensorflow:Done calling model_fn.\n",
      "INFO:tensorflow:Starting evaluation at 2019-02-21-17:43:48\n",
      "INFO:tensorflow:Graph was finalized.\n",
      "INFO:tensorflow:Restoring parameters from /tmp/tmp1l7lw0_n/model.ckpt-5370\n",
      "INFO:tensorflow:Running local_init_op.\n",
      "INFO:tensorflow:Done running local_init_op.\n",
      "INFO:tensorflow:Finished evaluation at 2019-02-21-17:43:48\n",
      "INFO:tensorflow:Saving dict for global step 5370: accuracy = 0.77922076, accuracy_baseline = 0.64935064, auc = 0.8405762, auc_precision_recall = 0.713771, average_loss = 0.47094733, global_step = 5370, label/mean = 0.35064936, loss = 4.532868, precision = 0.7586207, prediction/mean = 0.33097303, recall = 0.54320985\n",
      "INFO:tensorflow:Saving 'checkpoint_path' summary for global step 5370: /tmp/tmp1l7lw0_n/model.ckpt-5370\n"
     ]
    }
   ],
   "source": [
    "results = model.evaluate(eval_input_func)"
   ]
  },
  {
   "cell_type": "code",
   "execution_count": 97,
   "metadata": {},
   "outputs": [
    {
     "data": {
      "text/plain": [
       "{'accuracy': 0.74025977,\n",
       " 'accuracy_baseline': 0.64935064,\n",
       " 'auc': 0.80251026,\n",
       " 'auc_precision_recall': 0.6973062,\n",
       " 'average_loss': 0.5652868,\n",
       " 'label/mean': 0.35064936,\n",
       " 'loss': 5.4408855,\n",
       " 'precision': 0.83870965,\n",
       " 'prediction/mean': 0.22554307,\n",
       " 'recall': 0.32098764,\n",
       " 'global_step': 10000}"
      ]
     },
     "execution_count": 97,
     "metadata": {},
     "output_type": "execute_result"
    }
   ],
   "source": [
    "results"
   ]
  }
 ],
 "metadata": {
  "kernelspec": {
   "display_name": "Python 3",
   "language": "python",
   "name": "python3"
  },
  "language_info": {
   "codemirror_mode": {
    "name": "ipython",
    "version": 3
   },
   "file_extension": ".py",
   "mimetype": "text/x-python",
   "name": "python",
   "nbconvert_exporter": "python",
   "pygments_lexer": "ipython3",
   "version": "3.6.7"
  }
 },
 "nbformat": 4,
 "nbformat_minor": 2
}
